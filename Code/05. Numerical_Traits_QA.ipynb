{
 "cells": [
  {
   "cell_type": "markdown",
   "metadata": {},
   "source": [
    "**Notebook to perform numerical trait classification based on the DistilBERT and RoBERTa transformer models.**\n",
    "\n",
    "The textual descriptions come from either the aggregated POWO dataset, or from the trait-specific datasets: POWO_MGH (Morphology General Habit) and POWO_ML (Morphology Leaf).\n",
    "These descriptions are then used as the \"context\" in a question answering pipeline, along with two \"questions\" which differ for each trait. \n",
    "We used two models for this task: a DistilBERT model that is fine-tuned on SQuAD 1.1 and a RoBERTa model that is fine-tuned on SQuAD 2.0."
   ]
  },
  {
   "cell_type": "markdown",
   "metadata": {},
   "source": [
    "# Libraries & Functions"
   ]
  },
  {
   "cell_type": "code",
   "execution_count": 2,
   "metadata": {},
   "outputs": [],
   "source": [
    "'''Math & Data Libraries'''\n",
    "import numpy as np\n",
    "import pandas as pd"
   ]
  },
  {
   "cell_type": "code",
   "execution_count": 3,
   "metadata": {},
   "outputs": [],
   "source": [
    "''' Miscellaneous Libraries'''\n",
    "from tqdm import tqdm\n",
    "from collections import Counter"
   ]
  },
  {
   "cell_type": "code",
   "execution_count": 11,
   "metadata": {},
   "outputs": [],
   "source": [
    "'''NLP Libraries'''\n",
    "from transformers import AutoModelForQuestionAnswering, AutoTokenizer, pipeline"
   ]
  },
  {
   "cell_type": "code",
   "execution_count": 17,
   "metadata": {},
   "outputs": [],
   "source": [
    "'''String Libraries'''\n",
    "import string\n",
    "import re"
   ]
  },
  {
   "cell_type": "code",
   "execution_count": 5,
   "metadata": {},
   "outputs": [],
   "source": [
    "from sklearn.metrics import r2_score, mean_absolute_error, mean_squared_error\n",
    "from sklearn.preprocessing import MinMaxScaler\n",
    "from sklearn.linear_model import LinearRegression\n",
    "\n",
    "font = {'family': 'serif',\n",
    "        'color':  '#333333',\n",
    "        'weight': 'normal',\n",
    "        'size': 14,\n",
    "        }"
   ]
  },
  {
   "cell_type": "markdown",
   "metadata": {},
   "source": [
    "## QA Functions"
   ]
  },
  {
   "cell_type": "code",
   "execution_count": 18,
   "metadata": {},
   "outputs": [],
   "source": [
    "def QA_Prediction(Questions, Description, model_pipeline):\n",
    "    \"\"\"\n",
    "    Extract a numerical trait from a species' description using a QA model. \n",
    "    ---\n",
    "    Parameters\n",
    "    ----------\n",
    "    Questions : list of str\n",
    "        A list of questions used in the QA model \n",
    "    Description : str\n",
    "        the species' description \n",
    "    model_pipeline : transformers.pipeline()\n",
    "        a transformers QA pipeline utilizing a specific fine-tuned model\n",
    "    Returns\n",
    "    -------\n",
    "    best question : str\n",
    "        The question which received the highest score on the QA task\n",
    "    best_answer : str\n",
    "        The answer which received the highest score on the QA task\n",
    "    best-score : float\n",
    "        The highest score on the QA task\n",
    "    \"\"\"\n",
    "\n",
    "    if not isinstance(Description, str):\n",
    "        \"\"\"\n",
    "        If the description is not a string, return an empty question, \"No description\" and a score of 0\n",
    "        \"\"\"\n",
    "        return \"\", \"No Description\", 0 \n",
    "    \n",
    "    answer_list = []\n",
    "    score_list = []\n",
    "    if(not any(map(str.isdigit, Description))):\n",
    "        return \"\", \"No Number\", 0\n",
    "    \n",
    "    for q_i, question in enumerate(Questions): # We iterate over all the questions\n",
    "        QA_input = { \n",
    "        'question': question,\n",
    "        'context': Description\n",
    "        }\n",
    "        res = model_pipeline(QA_input) # We do a prediction using the question and species description as the context \n",
    "        answer = res[\"answer\"] \n",
    "        score = np.round(res[\"score\"], 3)\n",
    "        answer_list.append(answer)\n",
    "        score_list.append(score)\n",
    "        \n",
    "    # Get the best performing answers\n",
    "    best_answer_i = np.argmax(score_list)\n",
    "    best_question = Questions[best_answer_i]\n",
    "    best_answer = answer_list[best_answer_i]\n",
    "    best_score = score_list[best_answer_i]\n",
    "    \n",
    "    return best_question, best_answer, best_score"
   ]
  },
  {
   "cell_type": "code",
   "execution_count": 19,
   "metadata": {},
   "outputs": [],
   "source": [
    "def is_float(element):\n",
    "    \"\"\"\n",
    "    Test if element is (or can be converted to) a float. \n",
    "    ---\n",
    "    Parameters\n",
    "    ----------\n",
    "    element : str or float\n",
    "        The element to be checked \n",
    "    Returns\n",
    "    -------\n",
    "    True if element can be converted to a float else False\n",
    "    \"\"\"\n",
    "    try:\n",
    "        float(element)\n",
    "        return True\n",
    "    except ValueError:\n",
    "        return False"
   ]
  },
  {
   "cell_type": "code",
   "execution_count": 20,
   "metadata": {},
   "outputs": [],
   "source": [
    "def post_process_answer_height(answer):\n",
    "    \"\"\"\n",
    "    Postprocess the extracted plant height answer to a standardized format in a meter unit measurements. \n",
    "    ---\n",
    "    Parameters\n",
    "    ----------\n",
    "    answer : str\n",
    "        The extracted plant height answer. Example: 20-37 cm.\n",
    "    Returns\n",
    "    -------\n",
    "    post_processed_answer : str\n",
    "        The post-processed plant height answer. Example: 0.2 0.37 m\n",
    "    \"\"\"\n",
    "\n",
    "    available_units = ('mm', 'cm', 'm', 'km', 'inches', 'ft', 'yds', 'miles')\n",
    "    conversions = (1, 10, 1000, 1e6, 25.4, 304.8, 914.4, 1.609344e6)\n",
    "    conversion_dict = {unit:rate for unit, rate in zip(available_units, conversions)}\n",
    "    \n",
    "    flag = 0\n",
    "    answer_punc = answer.translate(str.maketrans('', '', string.punctuation)) # Remove all punctuation from the text to standardize and extract the unit of measurement\n",
    "    for unit in available_units:\n",
    "        if(unit in answer_punc.split(\" \")): # Iterate over all possible units of measurements to find the unit of measurement the extracted answer\n",
    "            flag = 1\n",
    "            metric = unit \n",
    "            break\n",
    "            \n",
    "    if(flag==0): # If there is no unit of measurement then the answer is not applicable so we return \"No metric\"\n",
    "        return \"No metric\"\n",
    "    \n",
    "    result = []\n",
    "\n",
    "    answer = re.sub(\"\\(*?\\)\",\"\",answer) \n",
    "\n",
    "    answer = answer.replace(\"-\", \" \") \n",
    "    counter = 0\n",
    "    for part in answer.split(\" \"): # We now split the answer into parts which should contain 1-2 numbers. Example answers: 1.8 m | 10 - 20 cm\n",
    "        if(counter>2): # If there are more than 2 numbers in the description there are uncertaincies in how to get the required number, thus we return \"Too many numbers\"\n",
    "            return \"Too many numbers\" \n",
    "        if(is_float(part)):\n",
    "            tmp = str(np.round(float(part) * conversion_dict[metric]/1000, 4)) # We convert all possibilities to a float and convert the extracted number to meters based on the unit in the description  \n",
    "            counter += 1 \n",
    "            result.append(tmp)\n",
    "    return \" \".join(result) \n",
    "\n",
    "\n",
    "def post_process_answer_leaf_length(answer):\n",
    "    \"\"\"\n",
    "    Postprocess the extracted plant leaf length answer to a standardized format in a centimeter unit measurements. \n",
    "    ---\n",
    "    Parameters\n",
    "    ----------\n",
    "    answer : str\n",
    "        The extracted leaf length answer. Example: 20-40x10-30 mm.\n",
    "    Returns\n",
    "    -------\n",
    "    post_processed_answer : str\n",
    "        The post-processed leaf length answer. Example: 2 4 cm\n",
    "    \"\"\"\n",
    "    available_units = ('mm', 'cm', 'm', 'km', 'inches', 'ft', 'yds', 'miles')\n",
    "    conversions = (1, 10, 1000, 1e6, 25.4, 304.8, 914.4, 1.609344e6)\n",
    "    conversion_dict = {unit:rate for unit, rate in zip(available_units, conversions)}\n",
    "    \n",
    "    flag = 0\n",
    "    answer_punc = answer.translate(str.maketrans('', '', string.punctuation)) # Remove all punctuation from the text to standardize and extract the unit of measurement\n",
    "    for unit in available_units:\n",
    "        if(unit in answer_punc.split(\" \")): # Iterate over all possible units of measurements to find the unit of measurement the extracted answer\n",
    "            flag = 1\n",
    "            metric = unit\n",
    "            \n",
    "    if(flag==0): # If there is no unit of measurement then the answer is not applicable so we return \"No metric\"\n",
    "        return \"No metric\"\n",
    "    result = []\n",
    "\n",
    "    if(\"x\" in answer): # If x is in the answer then it is most likely in a 2D format such as 20-40x10-30 mm. where the first part represents the leaf length and the second part is the leaf width \n",
    "        answer = answer.split(\"x\")[0] # Due to this we get the first part - the leaf length\n",
    "    \n",
    "    answer = re.sub(\"\\(*?\\)\",\"\",answer)\n",
    "\n",
    "    answer = answer.replace(\"-\", \" \")  \n",
    "    counter = 0\n",
    "    for part in answer.split(\" \"): # We now split the answer into parts which should contain 1-2 numbers. Example answers: 50 cm | 10 - 20 cm\n",
    "        if(counter>2): # If there are more than 2 numbers in the description there are uncertaincies in how to get the required number, thus we return \"Too many numbers\"\n",
    "            return \"Too many numbers\"\n",
    "        if(is_float(part)): \n",
    "            tmp = str(np.round(float(part) * conversion_dict[metric]/10, 4)) # We convert all possibilities to a float and convert the extracted number to centimeters based on the unit in the description  \n",
    "            counter += 1\n",
    "            result.append(tmp)\n",
    "    return \" \".join(result)\n",
    "\n",
    "def post_process_answer_leaf_width(answer):\n",
    "    \"\"\"\n",
    "    Postprocess the extracted plant leaf width answer to a standardized format in a centimeter unit measurements. \n",
    "    ---\n",
    "    Parameters\n",
    "    ----------\n",
    "    answer : str\n",
    "        The extracted leaf width answer. Example: 20-40x10-30 mm.\n",
    "    Returns\n",
    "    -------\n",
    "    post_processed_answer : str\n",
    "        The post-processed leaf width answer. Example: 1 3 cm\n",
    "    \"\"\"\n",
    "    available_units = ('mm', 'cm', 'm', 'km', 'inches', 'ft', 'yds', 'miles')\n",
    "    conversions = (1, 10, 1000, 1e6, 25.4, 304.8, 914.4, 1.609344e6)\n",
    "    conversion_dict = {unit:rate for unit, rate in zip(available_units, conversions)}\n",
    "    \n",
    "    flag = 0\n",
    "    answer_punc = answer.translate(str.maketrans('', '', string.punctuation)) # Remove all punctuation from the text to standardize and extract the unit of measurement\n",
    "    for unit in available_units:\n",
    "        if(unit in answer_punc.split(\" \")): # Iterate over all possible units of measurements to find the unit of measurement the extracted answer\n",
    "            flag = 1\n",
    "            metric = unit\n",
    "            \n",
    "    if(flag==0): # If there is no unit of measurement then the answer is not applicable so we return \"No metric\"\n",
    "        return \"No metric\"\n",
    "    result = []\n",
    "\n",
    "    if(\"x\" in answer): # If x is in the answer then it is most likely in a 2D format such as 20-40x10-30 mm. where the first part represents the leaf length and the second part is the leaf width \n",
    "        answer = answer.split(\"x\")[1] # Due to this we get the second part - the leaf width\n",
    "    \n",
    "    answer = re.sub(\"\\(.*?\\)\",\"\",answer)\n",
    "\n",
    "    answer = answer.replace(\"-\", \" \") \n",
    "    counter = 0\n",
    "    for part in answer.split(\" \"): # We now split the answer into parts which should contain 1-2 numbers. Example answers: 50 cm | 10 - 20 cm\n",
    "        if(counter>2): # If there are more than 2 numbers in the description there are uncertaincies in how to get the required number, thus we return \"Too many numbers\"\n",
    "            return \"Too many numbers\"\n",
    "        if(is_float(part)):\n",
    "            tmp = str(np.round(float(part) * conversion_dict[metric]/10, 4)) # We convert all possibilities to a float and convert the extracted number to centimeters based on the unit in the description  \n",
    "            counter += 1\n",
    "            result.append(tmp)\n",
    "    return \" \".join(result)\n",
    "\n",
    "def post_post_process_answer(answer):\n",
    "    \"\"\"\n",
    "    Post-postprocess the postprocessed answer to receive a numeric measurement. \n",
    "    In the case of one number inside the answer we only return that number, in the case of two numbers we return the second number as we are interested in the maximum trait value\n",
    "    ---\n",
    "    Parameters\n",
    "    ----------\n",
    "    answer : str\n",
    "        The extracted postprocessed answer. Example: 2 4 m\n",
    "    Returns\n",
    "    -------\n",
    "    post_post_processed_answer : str\n",
    "        The post_post_processed_answer answer. Example: 4\n",
    "    \"\"\"\n",
    "    answer_parts = answer.split(\" \")\n",
    "    if(len(answer_parts)==1 and is_float(answer_parts[0])):\n",
    "        return float(answer_parts[0])\n",
    "    if(len(answer_parts)==2 and is_float(answer_parts[0]) and is_float(answer_parts[1])):\n",
    "        return float(answer_parts[1])\n",
    "    return -1"
   ]
  },
  {
   "cell_type": "markdown",
   "metadata": {},
   "source": [
    "# Input Data"
   ]
  },
  {
   "cell_type": "code",
   "execution_count": 6,
   "metadata": {},
   "outputs": [],
   "source": [
    "df_dict = {}"
   ]
  },
  {
   "cell_type": "markdown",
   "metadata": {},
   "source": [
    "## Plants of the World Online - POWO GIFT"
   ]
  },
  {
   "cell_type": "code",
   "execution_count": 7,
   "metadata": {},
   "outputs": [],
   "source": [
    "df_dict[\"POWO\"] = pd.read_excel(\"../Data//Final Databases//POWO_GIFT.xlsx\")"
   ]
  },
  {
   "cell_type": "markdown",
   "metadata": {},
   "source": [
    "## POWO - Morphology General Habit & Morphology Leaf"
   ]
  },
  {
   "cell_type": "code",
   "execution_count": 9,
   "metadata": {},
   "outputs": [],
   "source": [
    "df_dict[\"POWO_MGH\"] = pd.read_excel(\"../Data//Final Databases//POWO_MGH_GIFT.xlsx\")"
   ]
  },
  {
   "cell_type": "code",
   "execution_count": 10,
   "metadata": {},
   "outputs": [],
   "source": [
    "df_dict[\"POWO_ML\"] = pd.read_excel(\"../Data//Final Databases//POWO_ML_GIFT.xlsx\")"
   ]
  },
  {
   "cell_type": "markdown",
   "metadata": {},
   "source": [
    "# Models"
   ]
  },
  {
   "cell_type": "code",
   "execution_count": 12,
   "metadata": {},
   "outputs": [],
   "source": [
    "model_dict = {}"
   ]
  },
  {
   "cell_type": "markdown",
   "metadata": {},
   "source": [
    "## RoBERTa"
   ]
  },
  {
   "cell_type": "code",
   "execution_count": 13,
   "metadata": {},
   "outputs": [],
   "source": [
    "model_name = \"deepset/roberta-base-squad2\"\n",
    "nlp = pipeline('question-answering', model=model_name, tokenizer=model_name)\n",
    "model_dict[\"ROBERTA\"] = nlp"
   ]
  },
  {
   "cell_type": "markdown",
   "metadata": {},
   "source": [
    "## DistilBERT"
   ]
  },
  {
   "cell_type": "code",
   "execution_count": 14,
   "metadata": {},
   "outputs": [],
   "source": [
    "model_name = \"distilbert-base-cased-distilled-squad\"\n",
    "nlp = pipeline('question-answering', model=model_name, tokenizer=model_name)\n",
    "model_dict[\"DistilBERT\"] = nlp"
   ]
  },
  {
   "cell_type": "markdown",
   "metadata": {},
   "source": [
    "# QA Predictions"
   ]
  },
  {
   "cell_type": "code",
   "execution_count": 21,
   "metadata": {},
   "outputs": [],
   "source": [
    "questions_dict = dict()\n",
    "predictions_dict = dict()\n",
    "post_predictions_dict = dict()\n",
    "pred_mask_dict = dict()\n",
    "score_dict = dict()\n",
    "mask_dict = dict()\n",
    "true_dict = dict()\n",
    "description_dict = dict()\n",
    "Questions = dict()"
   ]
  },
  {
   "cell_type": "markdown",
   "metadata": {},
   "source": [
    "## Plant Height Max"
   ]
  },
  {
   "cell_type": "code",
   "execution_count": 32,
   "metadata": {},
   "outputs": [],
   "source": [
    "focus_name = \"Plant Height Max\"\n",
    "focus_code = \"1.6.2\"\n",
    "\n",
    "description_column = \"QA_description\"\n",
    "questions = [\"How tall is the plant?\", \"What is the height?\"]\n",
    "\n",
    "Questions[focus_name] = questions"
   ]
  },
  {
   "cell_type": "code",
   "execution_count": 33,
   "metadata": {},
   "outputs": [
    {
     "name": "stdout",
     "output_type": "stream",
     "text": [
      "POWO Number of Species with Plant Height Max Information: 17648/59151 (0.3%)\n",
      "POWO_MGH Number of Species with Plant Height Max Information: 24908/67977 (0.37%)\n"
     ]
    }
   ],
   "source": [
    "for dataset in [\"POWO\", \"POWO_MGH\"]:\n",
    "    mask_dict[focus_name] = df_dict[dataset][focus_code].notna()\n",
    "    print(\"{} Number of Species with {} Information: {}/{} ({}%)\".format(dataset, focus_name, np.sum(mask_dict[focus_name]), len(df_dict[dataset][focus_code]), np.round(np.sum(mask_dict[focus_name])/len(df_dict[dataset][focus_code]),2 )))"
   ]
  },
  {
   "cell_type": "code",
   "execution_count": 24,
   "metadata": {},
   "outputs": [],
   "source": [
    "for dataset in [\"POWO\", \"POWO_MGH\"]:\n",
    "    for model in [\"DistilBERT\", \"ROBERTA\"]: \n",
    "        question_list = []\n",
    "        answer_list = []\n",
    "        score_list = []\n",
    "        true_list = []\n",
    "        description_list = []\n",
    "\n",
    "        mask_dict[focus_name] = df_dict[dataset][focus_code].notna()\n",
    "\n",
    "        for i, (description, trait_value) in tqdm(enumerate(df_dict[dataset][mask_dict[focus_name]][[description_column, focus_code]].values)):\n",
    "            ques, ans, score = QA_Prediction(Questions[focus_name], description, model_dict[model])\n",
    "            question_list.append(ques)\n",
    "            answer_list.append(ans)\n",
    "            score_list.append(score)\n",
    "            true_list.append(trait_value)\n",
    "            description_list.append(description)\n",
    "\n",
    "        post_predictions = [post_process_answer_height(ans) for ans in answer_list]\n",
    "        post_post_predictions = np.array([post_post_process_answer(ans) for ans in post_predictions])\n",
    "        pred_mask_v2 = post_post_predictions!=-1\n",
    "        \n",
    "        for var, data in zip([\"Questions\", \"Answers\", \"Scores\", \"Predictions\"], [question_list, answer_list, score_list, post_post_predictions]):\n",
    "            df_dict[dataset].loc[:, focus_code + \"_\" + var + \"_\" + model] = \"\"\n",
    "            df_dict[dataset].loc[mask_dict[focus_name], focus_code + \"_\" + var + \"_\" + model] = data"
   ]
  },
  {
   "cell_type": "markdown",
   "metadata": {},
   "source": [
    "## Leaf Length Max"
   ]
  },
  {
   "cell_type": "code",
   "execution_count": 34,
   "metadata": {},
   "outputs": [],
   "source": [
    "focus_name = \"Leaf Length Max\"\n",
    "focus_code = \"4.6.2\"\n",
    "\n",
    "description_column = \"QA_description\"\n",
    "questions = [\"How long is the leaf?\", \"What is the leaf length?\"]\n",
    "\n",
    "Questions[focus_name] = questions"
   ]
  },
  {
   "cell_type": "code",
   "execution_count": 35,
   "metadata": {},
   "outputs": [
    {
     "name": "stdout",
     "output_type": "stream",
     "text": [
      "POWO Number of Species with Leaf Length Max Information: 3397/59151 (0.06%)\n",
      "POWO_ML Number of Species with Leaf Length Max Information: 1387/18017 (0.08%)\n"
     ]
    }
   ],
   "source": [
    "for dataset in [\"POWO\", \"POWO_ML\"]:\n",
    "    mask_dict[focus_name] = df_dict[dataset][focus_code].notna()\n",
    "    print(\"{} Number of Species with {} Information: {}/{} ({}%)\".format(dataset, focus_name, np.sum(mask_dict[focus_name]), len(df_dict[dataset][focus_code]), np.round(np.sum(mask_dict[focus_name])/len(df_dict[dataset][focus_code]),2 )))"
   ]
  },
  {
   "cell_type": "code",
   "execution_count": 27,
   "metadata": {},
   "outputs": [],
   "source": [
    "for dataset in [\"POWO\", \"POWO_ML\"]:\n",
    "    for model in [\"DistilBERT\", \"ROBERTA\"]: \n",
    "        question_list = []\n",
    "        answer_list = []\n",
    "        score_list = []\n",
    "        true_list = []\n",
    "        description_list = []\n",
    "\n",
    "        mask_dict[focus_name] = df_dict[dataset][focus_code].notna()\n",
    "\n",
    "        for i, (description, trait_value) in tqdm(enumerate(df_dict[dataset][mask_dict[focus_name]][[description_column, focus_code]].values)):\n",
    "            ques, ans, score = QA_Prediction(Questions[focus_name], description, model_dict[model])\n",
    "            question_list.append(ques)\n",
    "            answer_list.append(ans)\n",
    "            score_list.append(score)\n",
    "            true_list.append(trait_value)\n",
    "            description_list.append(description)\n",
    "\n",
    "        post_predictions = [post_process_answer_leaf_length(ans) for ans in answer_list]\n",
    "        post_post_predictions = np.array([post_post_process_answer(ans) for ans in post_predictions])\n",
    "        pred_mask_v2 = post_post_predictions!=-1\n",
    "        \n",
    "        for var, data in zip([\"Questions\", \"Answers\", \"Scores\", \"Predictions\"], [question_list, answer_list, score_list, post_post_predictions]):\n",
    "            df_dict[dataset].loc[:, focus_code + \"_\" + var + \"_\" + model] = \"\"\n",
    "            df_dict[dataset].loc[mask_dict[focus_name], focus_code + \"_\" + var + \"_\" + model] = data"
   ]
  },
  {
   "cell_type": "markdown",
   "metadata": {},
   "source": [
    "## Leaf Width Max"
   ]
  },
  {
   "cell_type": "code",
   "execution_count": 37,
   "metadata": {},
   "outputs": [],
   "source": [
    "focus_name = \"Leaf Width Max\"\n",
    "focus_code = \"4.7.2\"\n",
    "\n",
    "description_column = \"QA_description\"\n",
    "questions = [\"How wide is the leaf?\", \"What is the leaf width?\"]\n",
    "\n",
    "Questions[focus_name] = questions"
   ]
  },
  {
   "cell_type": "code",
   "execution_count": 38,
   "metadata": {},
   "outputs": [
    {
     "name": "stdout",
     "output_type": "stream",
     "text": [
      "POWO Number of Species with Leaf Width Max Information: 2243/59151 (0.04%)\n",
      "POWO_ML Number of Species with Leaf Width Max Information: 1264/18017 (0.07%)\n"
     ]
    }
   ],
   "source": [
    "for dataset in [\"POWO\", \"POWO_ML\"]:\n",
    "    mask_dict[focus_name] = df_dict[dataset][focus_code].notna()\n",
    "    print(\"{} Number of Species with {} Information: {}/{} ({}%)\".format(dataset, focus_name, np.sum(mask_dict[focus_name]), len(df_dict[dataset][focus_code]), np.round(np.sum(mask_dict[focus_name])/len(df_dict[dataset][focus_code]),2 )))"
   ]
  },
  {
   "cell_type": "code",
   "execution_count": 30,
   "metadata": {},
   "outputs": [],
   "source": [
    "for dataset in [\"POWO\", \"POWO_ML\"]:\n",
    "    for model in [\"DistilBERT\", \"ROBERTA\"]: \n",
    "        question_list = []\n",
    "        answer_list = []\n",
    "        score_list = []\n",
    "        true_list = []\n",
    "        description_list = []\n",
    "\n",
    "        mask_dict[focus_name] = df_dict[dataset][focus_code].notna()\n",
    "\n",
    "        for i, (description, trait_value) in tqdm(enumerate(df_dict[dataset][mask_dict[focus_name]][[description_column, focus_code]].values)):\n",
    "            ques, ans, score = QA_Prediction(Questions[focus_name], description, model_dict[model])\n",
    "            question_list.append(ques)\n",
    "            answer_list.append(ans)\n",
    "            score_list.append(score)\n",
    "            true_list.append(trait_value)\n",
    "            description_list.append(description)\n",
    "\n",
    "        post_predictions = [post_process_answer_leaf_width(ans) for ans in answer_list]\n",
    "        post_post_predictions = np.array([post_post_process_answer(ans) for ans in post_predictions])\n",
    "        pred_mask_v2 = post_post_predictions!=-1\n",
    "        \n",
    "        for var, data in zip([\"Questions\", \"Answers\", \"Scores\", \"Predictions\"], [question_list, answer_list, score_list, post_post_predictions]):\n",
    "            df_dict[dataset].loc[:, focus_code + \"_\" + var + \"_\" + model] = \"\"\n",
    "            df_dict[dataset].loc[mask_dict[focus_name], focus_code + \"_\" + var + \"_\" + model] = data"
   ]
  },
  {
   "cell_type": "markdown",
   "metadata": {},
   "source": [
    "### Save Results"
   ]
  },
  {
   "cell_type": "code",
   "execution_count": 31,
   "metadata": {},
   "outputs": [],
   "source": [
    "for dataset in [\"POWO\", \"POWO_MGH\", \"POWO_ML\"]:\n",
    "    df_dict[dataset].to_excel(f\"..//Data//Results//{dataset}_Numerical_Predictions.xlsx\", index=False)"
   ]
  }
 ],
 "metadata": {
  "kernelspec": {
   "display_name": "base",
   "language": "python",
   "name": "python3"
  },
  "language_info": {
   "codemirror_mode": {
    "name": "ipython",
    "version": 3
   },
   "file_extension": ".py",
   "mimetype": "text/x-python",
   "name": "python",
   "nbconvert_exporter": "python",
   "pygments_lexer": "ipython3",
   "version": "3.9.13"
  },
  "orig_nbformat": 4
 },
 "nbformat": 4,
 "nbformat_minor": 2
}
