{
 "cells": [
  {
   "attachments": {},
   "cell_type": "markdown",
   "id": "3d76bec6",
   "metadata": {},
   "source": [
    "**Notebook to preprocess the initial scraped Plants of the World Online and Wikipedia descriptions.**\n",
    "\n",
    "This is done by removing unrelated information and processing the text using NLP and the following pipeline:\n",
    "* Remove unnecessary information such as description categories that are not relevant to the task\n",
    "* Remove artifacts & accents from text\n",
    "* Detect non-English descriptions and translate to English\n",
    "* Preprocess by lowercasing and tokenizing, optionally removing numbers, punctuation and stopwords"
   ]
  },
  {
   "attachments": {},
   "cell_type": "markdown",
   "id": "bbb90614",
   "metadata": {},
   "source": [
    "# Libraries & Functions"
   ]
  },
  {
   "cell_type": "code",
   "execution_count": 1,
   "id": "d7f10490",
   "metadata": {},
   "outputs": [],
   "source": [
    "'''Math & Data Libraries'''\n",
    "import numpy as np\n",
    "import pandas as pd"
   ]
  },
  {
   "cell_type": "code",
   "execution_count": 2,
   "id": "c1cc1b6e",
   "metadata": {
    "ExecuteTime": {
     "end_time": "2022-07-11T19:09:05.207676Z",
     "start_time": "2022-07-11T19:09:05.193394Z"
    }
   },
   "outputs": [],
   "source": [
    "''' Miscellaneous Libraries'''\n",
    "from tqdm import tqdm"
   ]
  },
  {
   "cell_type": "code",
   "execution_count": 4,
   "id": "a25f507a",
   "metadata": {},
   "outputs": [
    {
     "name": "stderr",
     "output_type": "stream",
     "text": [
      "[nltk_data] Downloading package punkt to\n",
      "[nltk_data]     C:\\Users\\Admin\\AppData\\Roaming\\nltk_data...\n",
      "[nltk_data]   Package punkt is already up-to-date!\n",
      "[nltk_data] Downloading package stopwords to\n",
      "[nltk_data]     C:\\Users\\Admin\\AppData\\Roaming\\nltk_data...\n",
      "[nltk_data]   Package stopwords is already up-to-date!\n"
     ]
    },
    {
     "data": {
      "text/plain": [
       "True"
      ]
     },
     "execution_count": 4,
     "metadata": {},
     "output_type": "execute_result"
    }
   ],
   "source": [
    "'''NLP Libraries'''\n",
    "import nltk\n",
    "from nltk.corpus import stopwords\n",
    "import string\n",
    "\n",
    "from langdetect import detect\n",
    "from deep_translator import GoogleTranslator, DeeplTranslator, batch_detection\n",
    "\n",
    "import unidecode\n",
    "import unicodedata\n",
    "\n",
    "nltk.download('punkt')\n",
    "nltk.download('stopwords')"
   ]
  },
  {
   "attachments": {},
   "cell_type": "markdown",
   "id": "04808ce7",
   "metadata": {},
   "source": [
    "## NLP Functions"
   ]
  },
  {
   "cell_type": "code",
   "execution_count": 5,
   "id": "6a823592",
   "metadata": {},
   "outputs": [],
   "source": [
    "def remove_accents(text):\n",
    "    \"\"\"\n",
    "    Remove accents from text. \n",
    "    ---\n",
    "    Parameters\n",
    "    ----------\n",
    "    text : str\n",
    "        text from which the accents should be removed\n",
    "\n",
    "    Returns\n",
    "    -------\n",
    "    text_removed_accents : str\n",
    "        text with removed accents \n",
    "    \"\"\"\n",
    "    return ''.join(x for x in unicodedata.normalize('NFKD', text) if x in string.ascii_letters or x == \" \" or x in string.digits or x in string.punctuation)\n",
    "\n",
    "def remove_artifacts(text):\n",
    "    \"\"\"\n",
    "    Remove artifacts from text. \n",
    "    ---\n",
    "    Parameters\n",
    "    ----------\n",
    "    text : str\n",
    "        text from which artifacts should be removed\n",
    "\n",
    "    Returns\n",
    "    -------\n",
    "    text_removed_artifacts : str\n",
    "        text with removed artifacts\n",
    "    \"\"\"\n",
    "    return str(text).replace(\"nbsp\", \"\").replace(\"<p>\", \"\").replace(\"</p>\", \"\").replace(\"<i>\", \"\").replace(\"</i>\", \"\").replace(\"<b>\", \"\").replace(\"</b>\", \"\").replace(\"&\",\"\").replace(\"_x000D_\", \"\").replace(\"\\\"\", \"\").replace(\"\\'\", \"\").replace(\"<em>\", \"\").replace(\"</em>\", \"\").replace(\"<br>\", \"\").replace(\"</br>\", \"\")\n",
    "\n",
    "def preprocess_description(text, remove_numbers = True, remove_stopwords = False):\n",
    "    \"\"\"\n",
    "    Preprocess text with the following steps:\n",
    "        1. Lowercasing\n",
    "        2. Removal of digits (if remove_numbers = True)\n",
    "        3. Removal of punctuation (if remove_numbers = True)\n",
    "        4. Removal of stopwords (if remove_stopwords = True) \n",
    "        5. Tokenization and join to fix issues with blank space\n",
    "    ---\n",
    "    Parameters\n",
    "    ----------\n",
    "    text : str\n",
    "        text from which artifacts should be removed\n",
    "    remove_numbers : boolean\n",
    "        whether to remove or keep digits in the text\n",
    "    remove_stopwords : boolean\n",
    "        whether to remove or stopwords in the text\n",
    "\n",
    "    Returns\n",
    "    -------\n",
    "    preprocessed_text : str\n",
    "        preprocessed_text\n",
    "    \"\"\"\n",
    "    text = text.lower()\n",
    "    if remove_numbers:\n",
    "        text = text.translate(str.maketrans('', '', string.digits))\n",
    "        text = text.translate(str.maketrans('', '', string.punctuation))\n",
    "       \n",
    "    tokens = nltk.word_tokenize(text)\n",
    "    text = \" \".join(tokens)\n",
    "\n",
    "    if remove_numbers:\n",
    "        tokens_long = []\n",
    "        for token in tokens:\n",
    "            if len(token)>1:\n",
    "                tokens_long.append(token)\n",
    "        text = ' '.join(tokens_long)\n",
    "\n",
    "    if remove_stopwords:\n",
    "        stopwords_ = stopwords.words('english')\n",
    "        tokens = nltk.word_tokenize(text)\n",
    "        tokens_stop_words = []\n",
    "        for token in tokens:\n",
    "            if token not in stopwords_:\n",
    "                tokens_stop_words.append(token)\n",
    "        text = ' '.join(tokens_stop_words)\n",
    "\n",
    "    return text"
   ]
  },
  {
   "cell_type": "code",
   "execution_count": 6,
   "id": "ab5e7b04",
   "metadata": {},
   "outputs": [],
   "source": [
    "def detect_language(text):\n",
    "    \"\"\"\n",
    "    Detect language of the text through the use of term search. \n",
    "    ---\n",
    "    Parameters\n",
    "    ----------\n",
    "    text : str\n",
    "        text from which the accents should be removed\n",
    "\n",
    "    Returns\n",
    "    -------\n",
    "    lang : str\n",
    "        code for the detected language. One of \"en\", \"es\", \"fr\", \"la\", \"de\" \n",
    "    \"\"\"\n",
    "    for term in latin_terms:\n",
    "        if(term.lower() in text.lower().translate(str.maketrans('', '', string.punctuation))):\n",
    "            return \"la\"\n",
    "    for term in spanish_terms:\n",
    "        if(term.lower() in text.lower().translate(str.maketrans('', '', string.punctuation))):\n",
    "            return \"es\"\n",
    "    for term in french_terms:\n",
    "        if(term.lower() in text.lower().translate(str.maketrans('', '', string.punctuation))):\n",
    "            return \"fr\"\n",
    "    for term in german_terms:\n",
    "        if(term.lower() in text.lower().translate(str.maketrans('', '', string.punctuation))):\n",
    "            return \"de\"\n",
    "    return \"en\""
   ]
  },
  {
   "attachments": {},
   "cell_type": "markdown",
   "id": "bcc15fab",
   "metadata": {},
   "source": [
    "## Variables"
   ]
  },
  {
   "cell_type": "code",
   "execution_count": 7,
   "id": "e7e439d8",
   "metadata": {},
   "outputs": [],
   "source": [
    "\"\"\"Terms used to detect non-English descriptions.\"\"\"\n",
    "spanish_terms = [\"matorrales\", \"Prados\", \"bipartidos\", \"hierba\", \"arbol\", \"arbusto\", \"trepadora\", \"epifita\", \"parasita\", \"acuatica\", \"solitaria\"]\n",
    "french_terms = [\"poussant\", \" ou \"]\n",
    "german_terms = [\"Pflanze\", \" lang \", \"kriechend\", \"sehr\",]\n",
    "latin_terms = [\"contractis\", \"inflorescentiis\", \"longitudine\", \"ceteris\", \" longis \", \"habitu \", \"staminibus\", \"curvato\", \" ab \", \"duplo\", \" nova \", \"haec\", \" Planta \", \"Planta minor\", \" epiphytica\", \"ad margines\", \"varietate\", \" magna \", \"plerumque\", \"temporaliter\", \"dormiens\", \" Herba \", \"oblonga\", \"Internodia\"]"
   ]
  },
  {
   "attachments": {},
   "cell_type": "markdown",
   "id": "8b5c94e3",
   "metadata": {},
   "source": [
    "# Input Data"
   ]
  },
  {
   "attachments": {},
   "cell_type": "markdown",
   "id": "7809fe41",
   "metadata": {},
   "source": [
    "## Plants of the World Online"
   ]
  },
  {
   "cell_type": "code",
   "execution_count": 2,
   "id": "c3791686",
   "metadata": {
    "ExecuteTime": {
     "end_time": "2022-07-11T19:10:20.471778Z",
     "start_time": "2022-07-11T19:09:10.379209Z"
    }
   },
   "outputs": [],
   "source": [
    "df_POWO = pd.read_excel(\"..//Data//Initial Databases//POWO_orig_descriptions.xlsx\")"
   ]
  },
  {
   "cell_type": "code",
   "execution_count": 3,
   "id": "e866f803",
   "metadata": {
    "ExecuteTime": {
     "end_time": "2022-07-11T19:10:58.194252Z",
     "start_time": "2022-07-11T19:10:58.164245Z"
    }
   },
   "outputs": [
    {
     "data": {
      "text/html": [
       "<div>\n",
       "<style scoped>\n",
       "    .dataframe tbody tr th:only-of-type {\n",
       "        vertical-align: middle;\n",
       "    }\n",
       "\n",
       "    .dataframe tbody tr th {\n",
       "        vertical-align: top;\n",
       "    }\n",
       "\n",
       "    .dataframe thead th {\n",
       "        text-align: right;\n",
       "    }\n",
       "</style>\n",
       "<table border=\"1\" class=\"dataframe\">\n",
       "  <thead>\n",
       "    <tr style=\"text-align: right;\">\n",
       "      <th></th>\n",
       "      <th>POWO_id</th>\n",
       "      <th>description</th>\n",
       "      <th>source</th>\n",
       "      <th>name</th>\n",
       "      <th>authors</th>\n",
       "      <th>i</th>\n",
       "      <th>ID</th>\n",
       "      <th>fqId</th>\n",
       "      <th>created</th>\n",
       "      <th>modified</th>\n",
       "      <th>language</th>\n",
       "      <th>creator</th>\n",
       "    </tr>\n",
       "  </thead>\n",
       "  <tbody>\n",
       "    <tr>\n",
       "      <th>0</th>\n",
       "      <td>morphologyLeaf</td>\n",
       "      <td>Leaves anisophyllous; lamina 12 – 45 × 6 – 15&amp;...</td>\n",
       "      <td>Kelbessa, E. 2009. Three new species of Acanth...</td>\n",
       "      <td>Acanthopale aethiogermanica</td>\n",
       "      <td>Ensermu</td>\n",
       "      <td>1</td>\n",
       "      <td>77098516-1</td>\n",
       "      <td>urn:lsid:ipni.org:names:77098516-1</td>\n",
       "      <td>NaN</td>\n",
       "      <td>NaN</td>\n",
       "      <td>NaN</td>\n",
       "      <td>NaN</td>\n",
       "    </tr>\n",
       "    <tr>\n",
       "      <th>1</th>\n",
       "      <td>conservation</td>\n",
       "      <td>Acanthopaleaethio-germanica is a widespread ta...</td>\n",
       "      <td>Kelbessa, E. 2009. Three new species of Acanth...</td>\n",
       "      <td>Acanthopale aethiogermanica</td>\n",
       "      <td>Ensermu</td>\n",
       "      <td>1</td>\n",
       "      <td>77098516-1</td>\n",
       "      <td>urn:lsid:ipni.org:names:77098516-1</td>\n",
       "      <td>NaN</td>\n",
       "      <td>NaN</td>\n",
       "      <td>NaN</td>\n",
       "      <td>NaN</td>\n",
       "    </tr>\n",
       "    <tr>\n",
       "      <th>2</th>\n",
       "      <td>morphologyReproductiveFruit</td>\n",
       "      <td>Capsule 14 – 16 × 5.6 – 6.5&amp;nbsp;mm, glabrous,...</td>\n",
       "      <td>Kelbessa, E. 2009. Three new species of Acanth...</td>\n",
       "      <td>Acanthopale aethiogermanica</td>\n",
       "      <td>Ensermu</td>\n",
       "      <td>1</td>\n",
       "      <td>77098516-1</td>\n",
       "      <td>urn:lsid:ipni.org:names:77098516-1</td>\n",
       "      <td>NaN</td>\n",
       "      <td>NaN</td>\n",
       "      <td>NaN</td>\n",
       "      <td>NaN</td>\n",
       "    </tr>\n",
       "    <tr>\n",
       "      <th>3</th>\n",
       "      <td>morphologyReproductiveInflorescenceSpikelet</td>\n",
       "      <td>Spikes axillary, with (1 –) 2 – 3 (– 4) flower...</td>\n",
       "      <td>Kelbessa, E. 2009. Three new species of Acanth...</td>\n",
       "      <td>Acanthopale aethiogermanica</td>\n",
       "      <td>Ensermu</td>\n",
       "      <td>1</td>\n",
       "      <td>77098516-1</td>\n",
       "      <td>urn:lsid:ipni.org:names:77098516-1</td>\n",
       "      <td>NaN</td>\n",
       "      <td>NaN</td>\n",
       "      <td>NaN</td>\n",
       "      <td>NaN</td>\n",
       "    </tr>\n",
       "    <tr>\n",
       "      <th>4</th>\n",
       "      <td>morphologyReproductiveFlowerGynoeciumOvary</td>\n",
       "      <td>Ovary 3.7 – 4.5&amp;nbsp;mm long, partially enclos...</td>\n",
       "      <td>Kelbessa, E. 2009. Three new species of Acanth...</td>\n",
       "      <td>Acanthopale aethiogermanica</td>\n",
       "      <td>Ensermu</td>\n",
       "      <td>1</td>\n",
       "      <td>77098516-1</td>\n",
       "      <td>urn:lsid:ipni.org:names:77098516-1</td>\n",
       "      <td>NaN</td>\n",
       "      <td>NaN</td>\n",
       "      <td>NaN</td>\n",
       "      <td>NaN</td>\n",
       "    </tr>\n",
       "    <tr>\n",
       "      <th>...</th>\n",
       "      <td>...</td>\n",
       "      <td>...</td>\n",
       "      <td>...</td>\n",
       "      <td>...</td>\n",
       "      <td>...</td>\n",
       "      <td>...</td>\n",
       "      <td>...</td>\n",
       "      <td>...</td>\n",
       "      <td>...</td>\n",
       "      <td>...</td>\n",
       "      <td>...</td>\n",
       "      <td>...</td>\n",
       "    </tr>\n",
       "    <tr>\n",
       "      <th>412279</th>\n",
       "      <td>morphologyReproductiveFlower</td>\n",
       "      <td>Flowers white, very fragrant.</td>\n",
       "      <td>Solanaceae, H. heine. Flora of West Tropical A...</td>\n",
       "      <td>Datura candida</td>\n",
       "      <td>Saff.</td>\n",
       "      <td>433345</td>\n",
       "      <td>76934-2</td>\n",
       "      <td>urn:lsid:ipni.org:names:76934-2</td>\n",
       "      <td>NaN</td>\n",
       "      <td>NaN</td>\n",
       "      <td>NaN</td>\n",
       "      <td>NaN</td>\n",
       "    </tr>\n",
       "    <tr>\n",
       "      <th>412280</th>\n",
       "      <td>morphologyGeneralHabit</td>\n",
       "      <td>Young branches and leaves rusty; leaves slight...</td>\n",
       "      <td>Apocynaceae, E.A. Omino. Flora of Tropical Eas...</td>\n",
       "      <td>Beaumontia grandiflora</td>\n",
       "      <td>Wall.</td>\n",
       "      <td>19449</td>\n",
       "      <td>77539-1</td>\n",
       "      <td>urn:lsid:ipni.org:names:77539-1</td>\n",
       "      <td>NaN</td>\n",
       "      <td>NaN</td>\n",
       "      <td>NaN</td>\n",
       "      <td>NaN</td>\n",
       "    </tr>\n",
       "    <tr>\n",
       "      <th>412281</th>\n",
       "      <td>distribution</td>\n",
       "      <td>Colombia</td>\n",
       "      <td>Bernal, R., Gradstein, S.R. &amp; Celis, M. (eds.)...</td>\n",
       "      <td>Puya pastoensis</td>\n",
       "      <td>André</td>\n",
       "      <td>433583</td>\n",
       "      <td>124523-1</td>\n",
       "      <td>urn:lsid:ipni.org:names:124523-1</td>\n",
       "      <td>NaN</td>\n",
       "      <td>NaN</td>\n",
       "      <td>NaN</td>\n",
       "      <td>NaN</td>\n",
       "    </tr>\n",
       "    <tr>\n",
       "      <th>412282</th>\n",
       "      <td>morphologyGeneralHabit</td>\n",
       "      <td>Young plants to 3 m high, with branches at fir...</td>\n",
       "      <td>M. Thulin et al. Flora of Somalia, Vol. 1-4 [u...</td>\n",
       "      <td>Euphorbia robecchii</td>\n",
       "      <td>Pax</td>\n",
       "      <td>129543</td>\n",
       "      <td>348073-1</td>\n",
       "      <td>urn:lsid:ipni.org:names:348073-1</td>\n",
       "      <td>NaN</td>\n",
       "      <td>NaN</td>\n",
       "      <td>NaN</td>\n",
       "      <td>NaN</td>\n",
       "    </tr>\n",
       "    <tr>\n",
       "      <th>412283</th>\n",
       "      <td>distribution</td>\n",
       "      <td>Colombia</td>\n",
       "      <td>Bernal, R., Gradstein, S.R. &amp; Celis, M. (eds.)...</td>\n",
       "      <td>Neottia maculata</td>\n",
       "      <td>Linden</td>\n",
       "      <td>434360</td>\n",
       "      <td>645342-1</td>\n",
       "      <td>urn:lsid:ipni.org:names:645342-1</td>\n",
       "      <td>NaN</td>\n",
       "      <td>NaN</td>\n",
       "      <td>NaN</td>\n",
       "      <td>NaN</td>\n",
       "    </tr>\n",
       "  </tbody>\n",
       "</table>\n",
       "<p>412284 rows × 12 columns</p>\n",
       "</div>"
      ],
      "text/plain": [
       "                                            POWO_id   \n",
       "0                                    morphologyLeaf  \\\n",
       "1                                      conservation   \n",
       "2                       morphologyReproductiveFruit   \n",
       "3       morphologyReproductiveInflorescenceSpikelet   \n",
       "4        morphologyReproductiveFlowerGynoeciumOvary   \n",
       "...                                             ...   \n",
       "412279                 morphologyReproductiveFlower   \n",
       "412280                       morphologyGeneralHabit   \n",
       "412281                                 distribution   \n",
       "412282                       morphologyGeneralHabit   \n",
       "412283                                 distribution   \n",
       "\n",
       "                                              description   \n",
       "0       Leaves anisophyllous; lamina 12 – 45 × 6 – 15&...  \\\n",
       "1       Acanthopaleaethio-germanica is a widespread ta...   \n",
       "2       Capsule 14 – 16 × 5.6 – 6.5&nbsp;mm, glabrous,...   \n",
       "3       Spikes axillary, with (1 –) 2 – 3 (– 4) flower...   \n",
       "4       Ovary 3.7 – 4.5&nbsp;mm long, partially enclos...   \n",
       "...                                                   ...   \n",
       "412279                      Flowers white, very fragrant.   \n",
       "412280  Young branches and leaves rusty; leaves slight...   \n",
       "412281                                           Colombia   \n",
       "412282  Young plants to 3 m high, with branches at fir...   \n",
       "412283                                           Colombia   \n",
       "\n",
       "                                                   source   \n",
       "0       Kelbessa, E. 2009. Three new species of Acanth...  \\\n",
       "1       Kelbessa, E. 2009. Three new species of Acanth...   \n",
       "2       Kelbessa, E. 2009. Three new species of Acanth...   \n",
       "3       Kelbessa, E. 2009. Three new species of Acanth...   \n",
       "4       Kelbessa, E. 2009. Three new species of Acanth...   \n",
       "...                                                   ...   \n",
       "412279  Solanaceae, H. heine. Flora of West Tropical A...   \n",
       "412280  Apocynaceae, E.A. Omino. Flora of Tropical Eas...   \n",
       "412281  Bernal, R., Gradstein, S.R. & Celis, M. (eds.)...   \n",
       "412282  M. Thulin et al. Flora of Somalia, Vol. 1-4 [u...   \n",
       "412283  Bernal, R., Gradstein, S.R. & Celis, M. (eds.)...   \n",
       "\n",
       "                               name  authors       i          ID   \n",
       "0       Acanthopale aethiogermanica  Ensermu       1  77098516-1  \\\n",
       "1       Acanthopale aethiogermanica  Ensermu       1  77098516-1   \n",
       "2       Acanthopale aethiogermanica  Ensermu       1  77098516-1   \n",
       "3       Acanthopale aethiogermanica  Ensermu       1  77098516-1   \n",
       "4       Acanthopale aethiogermanica  Ensermu       1  77098516-1   \n",
       "...                             ...      ...     ...         ...   \n",
       "412279               Datura candida    Saff.  433345     76934-2   \n",
       "412280       Beaumontia grandiflora    Wall.   19449     77539-1   \n",
       "412281              Puya pastoensis    André  433583    124523-1   \n",
       "412282          Euphorbia robecchii      Pax  129543    348073-1   \n",
       "412283             Neottia maculata   Linden  434360    645342-1   \n",
       "\n",
       "                                      fqId created modified language creator  \n",
       "0       urn:lsid:ipni.org:names:77098516-1     NaN      NaN      NaN     NaN  \n",
       "1       urn:lsid:ipni.org:names:77098516-1     NaN      NaN      NaN     NaN  \n",
       "2       urn:lsid:ipni.org:names:77098516-1     NaN      NaN      NaN     NaN  \n",
       "3       urn:lsid:ipni.org:names:77098516-1     NaN      NaN      NaN     NaN  \n",
       "4       urn:lsid:ipni.org:names:77098516-1     NaN      NaN      NaN     NaN  \n",
       "...                                    ...     ...      ...      ...     ...  \n",
       "412279     urn:lsid:ipni.org:names:76934-2     NaN      NaN      NaN     NaN  \n",
       "412280     urn:lsid:ipni.org:names:77539-1     NaN      NaN      NaN     NaN  \n",
       "412281    urn:lsid:ipni.org:names:124523-1     NaN      NaN      NaN     NaN  \n",
       "412282    urn:lsid:ipni.org:names:348073-1     NaN      NaN      NaN     NaN  \n",
       "412283    urn:lsid:ipni.org:names:645342-1     NaN      NaN      NaN     NaN  \n",
       "\n",
       "[412284 rows x 12 columns]"
      ]
     },
     "execution_count": 3,
     "metadata": {},
     "output_type": "execute_result"
    }
   ],
   "source": [
    "df_POWO"
   ]
  },
  {
   "cell_type": "code",
   "execution_count": 10,
   "id": "038b0e2f",
   "metadata": {
    "ExecuteTime": {
     "end_time": "2022-07-11T19:11:44.055228Z",
     "start_time": "2022-07-11T19:11:44.004197Z"
    }
   },
   "outputs": [
    {
     "name": "stdout",
     "output_type": "stream",
     "text": [
      "Initial Number of Categories: 260\n"
     ]
    }
   ],
   "source": [
    "print(\"Initial Number of Categories:\", df_POWO[\"POWO_id\"].nunique())"
   ]
  },
  {
   "attachments": {},
   "cell_type": "markdown",
   "id": "a483ec9d",
   "metadata": {},
   "source": [
    "### Filter out unnecessary categories\n",
    "Conservation, Cytology, Distribution, Figure, Reference, Type, Vernacular, Diagnostic, Ecology"
   ]
  },
  {
   "cell_type": "code",
   "execution_count": 11,
   "id": "a0ab0564",
   "metadata": {
    "ExecuteTime": {
     "end_time": "2022-07-03T18:09:01.703097Z",
     "start_time": "2022-07-03T18:09:01.692061Z"
    }
   },
   "outputs": [],
   "source": [
    "unnecessary_categories = [\"conservation\", \"cytology\", \"distribution\", \"figure\", \"reference\", \"type\", \"vernacular\", \"diagnostic\", \"ecology\"]"
   ]
  },
  {
   "cell_type": "code",
   "execution_count": 12,
   "id": "4263c93e",
   "metadata": {
    "ExecuteTime": {
     "end_time": "2022-07-03T18:09:02.667038Z",
     "start_time": "2022-07-03T18:09:02.377973Z"
    }
   },
   "outputs": [
    {
     "name": "stdout",
     "output_type": "stream",
     "text": [
      "Category: conservation Filtered rows: 30953\n",
      "Category: cytology Filtered rows: 59\n",
      "Category: distribution Filtered rows: 57788\n",
      "Category: figure Filtered rows: 2871\n",
      "Category: reference Filtered rows: 9524\n",
      "Category: type Filtered rows: 3419\n",
      "Category: vernacular Filtered rows: 5655\n",
      "Category: diagnostic Filtered rows: 1271\n",
      "Category: ecology Filtered rows: 12490\n",
      "\n",
      "Total filtered out rows: 124030\n"
     ]
    }
   ],
   "source": [
    "category_mask = np.zeros(df_POWO.shape[0], dtype=bool)\n",
    "for un_cat in unnecessary_categories:\n",
    "    category_mask += df_POWO[\"POWO_id\"]==un_cat\n",
    "    print(\"Category:\", un_cat, \"Filtered rows:\", np.sum(df_POWO[\"POWO_id\"]==un_cat))\n",
    "\n",
    "print()\n",
    "print(\"Total filtered out rows:\", np.sum(category_mask))"
   ]
  },
  {
   "cell_type": "code",
   "execution_count": 14,
   "id": "5787e0e9",
   "metadata": {
    "ExecuteTime": {
     "end_time": "2022-07-03T18:09:05.382400Z",
     "start_time": "2022-07-03T18:09:05.333389Z"
    }
   },
   "outputs": [],
   "source": [
    "df_POWO = df_POWO[~category_mask]"
   ]
  },
  {
   "cell_type": "code",
   "execution_count": 15,
   "id": "1c865bf7",
   "metadata": {},
   "outputs": [
    {
     "data": {
      "text/html": [
       "<div>\n",
       "<style scoped>\n",
       "    .dataframe tbody tr th:only-of-type {\n",
       "        vertical-align: middle;\n",
       "    }\n",
       "\n",
       "    .dataframe tbody tr th {\n",
       "        vertical-align: top;\n",
       "    }\n",
       "\n",
       "    .dataframe thead th {\n",
       "        text-align: right;\n",
       "    }\n",
       "</style>\n",
       "<table border=\"1\" class=\"dataframe\">\n",
       "  <thead>\n",
       "    <tr style=\"text-align: right;\">\n",
       "      <th></th>\n",
       "      <th>POWO_id</th>\n",
       "      <th>description</th>\n",
       "      <th>source</th>\n",
       "      <th>name</th>\n",
       "      <th>authors</th>\n",
       "      <th>i</th>\n",
       "      <th>ID</th>\n",
       "      <th>fqId</th>\n",
       "      <th>created</th>\n",
       "      <th>modified</th>\n",
       "      <th>language</th>\n",
       "      <th>creator</th>\n",
       "    </tr>\n",
       "  </thead>\n",
       "  <tbody>\n",
       "    <tr>\n",
       "      <th>0</th>\n",
       "      <td>morphologyLeaf</td>\n",
       "      <td>Leaves anisophyllous; lamina 12 – 45 × 6 – 15&amp;...</td>\n",
       "      <td>Kelbessa, E. 2009. Three new species of Acanth...</td>\n",
       "      <td>Acanthopale aethiogermanica</td>\n",
       "      <td>Ensermu</td>\n",
       "      <td>1</td>\n",
       "      <td>77098516-1</td>\n",
       "      <td>urn:lsid:ipni.org:names:77098516-1</td>\n",
       "      <td>NaN</td>\n",
       "      <td>NaN</td>\n",
       "      <td>NaN</td>\n",
       "      <td>NaN</td>\n",
       "    </tr>\n",
       "    <tr>\n",
       "      <th>2</th>\n",
       "      <td>morphologyReproductiveFruit</td>\n",
       "      <td>Capsule 14 – 16 × 5.6 – 6.5&amp;nbsp;mm, glabrous,...</td>\n",
       "      <td>Kelbessa, E. 2009. Three new species of Acanth...</td>\n",
       "      <td>Acanthopale aethiogermanica</td>\n",
       "      <td>Ensermu</td>\n",
       "      <td>1</td>\n",
       "      <td>77098516-1</td>\n",
       "      <td>urn:lsid:ipni.org:names:77098516-1</td>\n",
       "      <td>NaN</td>\n",
       "      <td>NaN</td>\n",
       "      <td>NaN</td>\n",
       "      <td>NaN</td>\n",
       "    </tr>\n",
       "    <tr>\n",
       "      <th>3</th>\n",
       "      <td>morphologyReproductiveInflorescenceSpikelet</td>\n",
       "      <td>Spikes axillary, with (1 –) 2 – 3 (– 4) flower...</td>\n",
       "      <td>Kelbessa, E. 2009. Three new species of Acanth...</td>\n",
       "      <td>Acanthopale aethiogermanica</td>\n",
       "      <td>Ensermu</td>\n",
       "      <td>1</td>\n",
       "      <td>77098516-1</td>\n",
       "      <td>urn:lsid:ipni.org:names:77098516-1</td>\n",
       "      <td>NaN</td>\n",
       "      <td>NaN</td>\n",
       "      <td>NaN</td>\n",
       "      <td>NaN</td>\n",
       "    </tr>\n",
       "    <tr>\n",
       "      <th>4</th>\n",
       "      <td>morphologyReproductiveFlowerGynoeciumOvary</td>\n",
       "      <td>Ovary 3.7 – 4.5&amp;nbsp;mm long, partially enclos...</td>\n",
       "      <td>Kelbessa, E. 2009. Three new species of Acanth...</td>\n",
       "      <td>Acanthopale aethiogermanica</td>\n",
       "      <td>Ensermu</td>\n",
       "      <td>1</td>\n",
       "      <td>77098516-1</td>\n",
       "      <td>urn:lsid:ipni.org:names:77098516-1</td>\n",
       "      <td>NaN</td>\n",
       "      <td>NaN</td>\n",
       "      <td>NaN</td>\n",
       "      <td>NaN</td>\n",
       "    </tr>\n",
       "    <tr>\n",
       "      <th>5</th>\n",
       "      <td>morphologyReproductiveInflorescenceBract</td>\n",
       "      <td>Bracts 2, linear to linear-oblanceolate, 8 – 1...</td>\n",
       "      <td>Kelbessa, E. 2009. Three new species of Acanth...</td>\n",
       "      <td>Acanthopale aethiogermanica</td>\n",
       "      <td>Ensermu</td>\n",
       "      <td>1</td>\n",
       "      <td>77098516-1</td>\n",
       "      <td>urn:lsid:ipni.org:names:77098516-1</td>\n",
       "      <td>NaN</td>\n",
       "      <td>NaN</td>\n",
       "      <td>NaN</td>\n",
       "      <td>NaN</td>\n",
       "    </tr>\n",
       "    <tr>\n",
       "      <th>...</th>\n",
       "      <td>...</td>\n",
       "      <td>...</td>\n",
       "      <td>...</td>\n",
       "      <td>...</td>\n",
       "      <td>...</td>\n",
       "      <td>...</td>\n",
       "      <td>...</td>\n",
       "      <td>...</td>\n",
       "      <td>...</td>\n",
       "      <td>...</td>\n",
       "      <td>...</td>\n",
       "      <td>...</td>\n",
       "    </tr>\n",
       "    <tr>\n",
       "      <th>412274</th>\n",
       "      <td>morphologyGeneralHabit</td>\n",
       "      <td>Woody-based Thesium-like herb with several ere...</td>\n",
       "      <td>Rubiaceae, B. Verdcourt. Flora Zambesiaca 5:1....</td>\n",
       "      <td>Manostachya staelioides</td>\n",
       "      <td>(K.Schum.) Bremek.</td>\n",
       "      <td>302653</td>\n",
       "      <td>755812-1</td>\n",
       "      <td>urn:lsid:ipni.org:names:755812-1</td>\n",
       "      <td>NaN</td>\n",
       "      <td>NaN</td>\n",
       "      <td>NaN</td>\n",
       "      <td>NaN</td>\n",
       "    </tr>\n",
       "    <tr>\n",
       "      <th>412278</th>\n",
       "      <td>morphologyGeneralHabit</td>\n",
       "      <td>Woody-stemmed herb, 4 ft. high</td>\n",
       "      <td>Papilionaceae, Hutchinson and Dalziel. Flora o...</td>\n",
       "      <td>Indigofera megacephala</td>\n",
       "      <td>J.B.Gillett</td>\n",
       "      <td>143886</td>\n",
       "      <td>499640-1</td>\n",
       "      <td>urn:lsid:ipni.org:names:499640-1</td>\n",
       "      <td>NaN</td>\n",
       "      <td>NaN</td>\n",
       "      <td>NaN</td>\n",
       "      <td>NaN</td>\n",
       "    </tr>\n",
       "    <tr>\n",
       "      <th>412279</th>\n",
       "      <td>morphologyReproductiveFlower</td>\n",
       "      <td>Flowers white, very fragrant.</td>\n",
       "      <td>Solanaceae, H. heine. Flora of West Tropical A...</td>\n",
       "      <td>Datura candida</td>\n",
       "      <td>Saff.</td>\n",
       "      <td>433345</td>\n",
       "      <td>76934-2</td>\n",
       "      <td>urn:lsid:ipni.org:names:76934-2</td>\n",
       "      <td>NaN</td>\n",
       "      <td>NaN</td>\n",
       "      <td>NaN</td>\n",
       "      <td>NaN</td>\n",
       "    </tr>\n",
       "    <tr>\n",
       "      <th>412280</th>\n",
       "      <td>morphologyGeneralHabit</td>\n",
       "      <td>Young branches and leaves rusty; leaves slight...</td>\n",
       "      <td>Apocynaceae, E.A. Omino. Flora of Tropical Eas...</td>\n",
       "      <td>Beaumontia grandiflora</td>\n",
       "      <td>Wall.</td>\n",
       "      <td>19449</td>\n",
       "      <td>77539-1</td>\n",
       "      <td>urn:lsid:ipni.org:names:77539-1</td>\n",
       "      <td>NaN</td>\n",
       "      <td>NaN</td>\n",
       "      <td>NaN</td>\n",
       "      <td>NaN</td>\n",
       "    </tr>\n",
       "    <tr>\n",
       "      <th>412282</th>\n",
       "      <td>morphologyGeneralHabit</td>\n",
       "      <td>Young plants to 3 m high, with branches at fir...</td>\n",
       "      <td>M. Thulin et al. Flora of Somalia, Vol. 1-4 [u...</td>\n",
       "      <td>Euphorbia robecchii</td>\n",
       "      <td>Pax</td>\n",
       "      <td>129543</td>\n",
       "      <td>348073-1</td>\n",
       "      <td>urn:lsid:ipni.org:names:348073-1</td>\n",
       "      <td>NaN</td>\n",
       "      <td>NaN</td>\n",
       "      <td>NaN</td>\n",
       "      <td>NaN</td>\n",
       "    </tr>\n",
       "  </tbody>\n",
       "</table>\n",
       "<p>288254 rows × 12 columns</p>\n",
       "</div>"
      ],
      "text/plain": [
       "                                            POWO_id   \n",
       "0                                    morphologyLeaf  \\\n",
       "2                       morphologyReproductiveFruit   \n",
       "3       morphologyReproductiveInflorescenceSpikelet   \n",
       "4        morphologyReproductiveFlowerGynoeciumOvary   \n",
       "5          morphologyReproductiveInflorescenceBract   \n",
       "...                                             ...   \n",
       "412274                       morphologyGeneralHabit   \n",
       "412278                       morphologyGeneralHabit   \n",
       "412279                 morphologyReproductiveFlower   \n",
       "412280                       morphologyGeneralHabit   \n",
       "412282                       morphologyGeneralHabit   \n",
       "\n",
       "                                              description   \n",
       "0       Leaves anisophyllous; lamina 12 – 45 × 6 – 15&...  \\\n",
       "2       Capsule 14 – 16 × 5.6 – 6.5&nbsp;mm, glabrous,...   \n",
       "3       Spikes axillary, with (1 –) 2 – 3 (– 4) flower...   \n",
       "4       Ovary 3.7 – 4.5&nbsp;mm long, partially enclos...   \n",
       "5       Bracts 2, linear to linear-oblanceolate, 8 – 1...   \n",
       "...                                                   ...   \n",
       "412274  Woody-based Thesium-like herb with several ere...   \n",
       "412278                     Woody-stemmed herb, 4 ft. high   \n",
       "412279                      Flowers white, very fragrant.   \n",
       "412280  Young branches and leaves rusty; leaves slight...   \n",
       "412282  Young plants to 3 m high, with branches at fir...   \n",
       "\n",
       "                                                   source   \n",
       "0       Kelbessa, E. 2009. Three new species of Acanth...  \\\n",
       "2       Kelbessa, E. 2009. Three new species of Acanth...   \n",
       "3       Kelbessa, E. 2009. Three new species of Acanth...   \n",
       "4       Kelbessa, E. 2009. Three new species of Acanth...   \n",
       "5       Kelbessa, E. 2009. Three new species of Acanth...   \n",
       "...                                                   ...   \n",
       "412274  Rubiaceae, B. Verdcourt. Flora Zambesiaca 5:1....   \n",
       "412278  Papilionaceae, Hutchinson and Dalziel. Flora o...   \n",
       "412279  Solanaceae, H. heine. Flora of West Tropical A...   \n",
       "412280  Apocynaceae, E.A. Omino. Flora of Tropical Eas...   \n",
       "412282  M. Thulin et al. Flora of Somalia, Vol. 1-4 [u...   \n",
       "\n",
       "                               name             authors       i          ID   \n",
       "0       Acanthopale aethiogermanica             Ensermu       1  77098516-1  \\\n",
       "2       Acanthopale aethiogermanica             Ensermu       1  77098516-1   \n",
       "3       Acanthopale aethiogermanica             Ensermu       1  77098516-1   \n",
       "4       Acanthopale aethiogermanica             Ensermu       1  77098516-1   \n",
       "5       Acanthopale aethiogermanica             Ensermu       1  77098516-1   \n",
       "...                             ...                 ...     ...         ...   \n",
       "412274      Manostachya staelioides  (K.Schum.) Bremek.  302653    755812-1   \n",
       "412278       Indigofera megacephala         J.B.Gillett  143886    499640-1   \n",
       "412279               Datura candida               Saff.  433345     76934-2   \n",
       "412280       Beaumontia grandiflora               Wall.   19449     77539-1   \n",
       "412282          Euphorbia robecchii                 Pax  129543    348073-1   \n",
       "\n",
       "                                      fqId created modified language creator  \n",
       "0       urn:lsid:ipni.org:names:77098516-1     NaN      NaN      NaN     NaN  \n",
       "2       urn:lsid:ipni.org:names:77098516-1     NaN      NaN      NaN     NaN  \n",
       "3       urn:lsid:ipni.org:names:77098516-1     NaN      NaN      NaN     NaN  \n",
       "4       urn:lsid:ipni.org:names:77098516-1     NaN      NaN      NaN     NaN  \n",
       "5       urn:lsid:ipni.org:names:77098516-1     NaN      NaN      NaN     NaN  \n",
       "...                                    ...     ...      ...      ...     ...  \n",
       "412274    urn:lsid:ipni.org:names:755812-1     NaN      NaN      NaN     NaN  \n",
       "412278    urn:lsid:ipni.org:names:499640-1     NaN      NaN      NaN     NaN  \n",
       "412279     urn:lsid:ipni.org:names:76934-2     NaN      NaN      NaN     NaN  \n",
       "412280     urn:lsid:ipni.org:names:77539-1     NaN      NaN      NaN     NaN  \n",
       "412282    urn:lsid:ipni.org:names:348073-1     NaN      NaN      NaN     NaN  \n",
       "\n",
       "[288254 rows x 12 columns]"
      ]
     },
     "execution_count": 15,
     "metadata": {},
     "output_type": "execute_result"
    }
   ],
   "source": [
    "df_POWO"
   ]
  },
  {
   "attachments": {},
   "cell_type": "markdown",
   "id": "1d9c13a0",
   "metadata": {},
   "source": [
    "## Wikipedia"
   ]
  },
  {
   "cell_type": "code",
   "execution_count": 16,
   "id": "3ab989d9",
   "metadata": {},
   "outputs": [],
   "source": [
    "df_WIKI = pd.read_excel(\"..//Data//Initial Databases//WIKI_orig_descriptions.xlsx\")"
   ]
  },
  {
   "cell_type": "code",
   "execution_count": 17,
   "id": "8e4c0009",
   "metadata": {},
   "outputs": [
    {
     "data": {
      "text/html": [
       "<div>\n",
       "<style scoped>\n",
       "    .dataframe tbody tr th:only-of-type {\n",
       "        vertical-align: middle;\n",
       "    }\n",
       "\n",
       "    .dataframe tbody tr th {\n",
       "        vertical-align: top;\n",
       "    }\n",
       "\n",
       "    .dataframe thead th {\n",
       "        text-align: right;\n",
       "    }\n",
       "</style>\n",
       "<table border=\"1\" class=\"dataframe\">\n",
       "  <thead>\n",
       "    <tr style=\"text-align: right;\">\n",
       "      <th></th>\n",
       "      <th>WIKI_id</th>\n",
       "      <th>description</th>\n",
       "      <th>source</th>\n",
       "      <th>name</th>\n",
       "      <th>Date Retrieved</th>\n",
       "      <th>Binomial Name</th>\n",
       "    </tr>\n",
       "  </thead>\n",
       "  <tbody>\n",
       "    <tr>\n",
       "      <th>0</th>\n",
       "      <td>Summary</td>\n",
       "      <td>Aa achalensis is a species of orchid in the ge...</td>\n",
       "      <td>Schltr., 1920</td>\n",
       "      <td>Aa achalensis</td>\n",
       "      <td>01/07/2022</td>\n",
       "      <td>Aa achalensis</td>\n",
       "    </tr>\n",
       "    <tr>\n",
       "      <th>1</th>\n",
       "      <td>Summary</td>\n",
       "      <td>Aa argyrolepis is an orchid in the genus Aa.  ...</td>\n",
       "      <td>Rchb.f., 1854</td>\n",
       "      <td>Aa argyrolepis</td>\n",
       "      <td>01/07/2022</td>\n",
       "      <td>Aa argyrolepis</td>\n",
       "    </tr>\n",
       "    <tr>\n",
       "      <th>2</th>\n",
       "      <td>References</td>\n",
       "      <td>\\nReichenbach, H.G. (1854) Xenia Orchidacea 1:...</td>\n",
       "      <td>Rchb.f., 1854</td>\n",
       "      <td>Aa argyrolepis</td>\n",
       "      <td>01/07/2022</td>\n",
       "      <td>Aa argyrolepis</td>\n",
       "    </tr>\n",
       "    <tr>\n",
       "      <th>3</th>\n",
       "      <td>Summary</td>\n",
       "      <td>Aa aurantiaca is a species of orchid in the ge...</td>\n",
       "      <td>D. Trujillo (2011)[1]</td>\n",
       "      <td>Aa aurantiaca</td>\n",
       "      <td>01/07/2022</td>\n",
       "      <td>Aa aurantiaca</td>\n",
       "    </tr>\n",
       "    <tr>\n",
       "      <th>4</th>\n",
       "      <td>Summary</td>\n",
       "      <td>Aa calceata is a species of orchid in the genu...</td>\n",
       "      <td>Schltr., 1912</td>\n",
       "      <td>Aa calceata</td>\n",
       "      <td>01/07/2022</td>\n",
       "      <td>Aa calceata</td>\n",
       "    </tr>\n",
       "    <tr>\n",
       "      <th>...</th>\n",
       "      <td>...</td>\n",
       "      <td>...</td>\n",
       "      <td>...</td>\n",
       "      <td>...</td>\n",
       "      <td>...</td>\n",
       "      <td>...</td>\n",
       "    </tr>\n",
       "    <tr>\n",
       "      <th>194989</th>\n",
       "      <td>Distribution</td>\n",
       "      <td>Native to West Tropical Africa, found in Niger...</td>\n",
       "      <td>(Pax) Mildbr.</td>\n",
       "      <td>Zygotritonia bongensis</td>\n",
       "      <td>09/07/2022</td>\n",
       "      <td>Zygotritonia bongensis</td>\n",
       "    </tr>\n",
       "    <tr>\n",
       "      <th>194990</th>\n",
       "      <td>Summary</td>\n",
       "      <td>Zyzyxia is a genus of tropical shrubs in the f...</td>\n",
       "      <td>(H.Robinson) Strother, 1991</td>\n",
       "      <td>Zyzyxia lundellii</td>\n",
       "      <td>09/07/2022</td>\n",
       "      <td>Zyzyxia lundellii</td>\n",
       "    </tr>\n",
       "    <tr>\n",
       "      <th>194991</th>\n",
       "      <td>Description  and distribution</td>\n",
       "      <td>Zyzyxia is a shrub that grows to 3 meters tall...</td>\n",
       "      <td>(H.Robinson) Strother, 1991</td>\n",
       "      <td>Zyzyxia lundellii</td>\n",
       "      <td>09/07/2022</td>\n",
       "      <td>Zyzyxia lundellii</td>\n",
       "    </tr>\n",
       "    <tr>\n",
       "      <th>194992</th>\n",
       "      <td>Naming</td>\n",
       "      <td>Around 1990, John L. Strother was revising the...</td>\n",
       "      <td>(H.Robinson) Strother, 1991</td>\n",
       "      <td>Zyzyxia lundellii</td>\n",
       "      <td>09/07/2022</td>\n",
       "      <td>Zyzyxia lundellii</td>\n",
       "    </tr>\n",
       "    <tr>\n",
       "      <th>194993</th>\n",
       "      <td>Summary</td>\n",
       "      <td>× Phyllosasa  is a nothogenus (genus of hybrid...</td>\n",
       "      <td>(Koidz.) Demoly</td>\n",
       "      <td>× Phyllosasa tranquillans</td>\n",
       "      <td>09/07/2022</td>\n",
       "      <td>× Phyllosasa tranquillans</td>\n",
       "    </tr>\n",
       "  </tbody>\n",
       "</table>\n",
       "<p>194994 rows × 6 columns</p>\n",
       "</div>"
      ],
      "text/plain": [
       "                              WIKI_id   \n",
       "0                             Summary  \\\n",
       "1                             Summary   \n",
       "2                          References   \n",
       "3                             Summary   \n",
       "4                             Summary   \n",
       "...                               ...   \n",
       "194989                   Distribution   \n",
       "194990                        Summary   \n",
       "194991  Description  and distribution   \n",
       "194992                         Naming   \n",
       "194993                        Summary   \n",
       "\n",
       "                                              description   \n",
       "0       Aa achalensis is a species of orchid in the ge...  \\\n",
       "1       Aa argyrolepis is an orchid in the genus Aa.  ...   \n",
       "2       \\nReichenbach, H.G. (1854) Xenia Orchidacea 1:...   \n",
       "3       Aa aurantiaca is a species of orchid in the ge...   \n",
       "4       Aa calceata is a species of orchid in the genu...   \n",
       "...                                                   ...   \n",
       "194989  Native to West Tropical Africa, found in Niger...   \n",
       "194990  Zyzyxia is a genus of tropical shrubs in the f...   \n",
       "194991  Zyzyxia is a shrub that grows to 3 meters tall...   \n",
       "194992  Around 1990, John L. Strother was revising the...   \n",
       "194993  × Phyllosasa  is a nothogenus (genus of hybrid...   \n",
       "\n",
       "                             source                       name Date Retrieved   \n",
       "0                     Schltr., 1920              Aa achalensis     01/07/2022  \\\n",
       "1                     Rchb.f., 1854             Aa argyrolepis     01/07/2022   \n",
       "2                     Rchb.f., 1854             Aa argyrolepis     01/07/2022   \n",
       "3             D. Trujillo (2011)[1]              Aa aurantiaca     01/07/2022   \n",
       "4                     Schltr., 1912                Aa calceata     01/07/2022   \n",
       "...                             ...                        ...            ...   \n",
       "194989                (Pax) Mildbr.     Zygotritonia bongensis     09/07/2022   \n",
       "194990  (H.Robinson) Strother, 1991          Zyzyxia lundellii     09/07/2022   \n",
       "194991  (H.Robinson) Strother, 1991          Zyzyxia lundellii     09/07/2022   \n",
       "194992  (H.Robinson) Strother, 1991          Zyzyxia lundellii     09/07/2022   \n",
       "194993              (Koidz.) Demoly  × Phyllosasa tranquillans     09/07/2022   \n",
       "\n",
       "                    Binomial Name  \n",
       "0                   Aa achalensis  \n",
       "1                  Aa argyrolepis  \n",
       "2                  Aa argyrolepis  \n",
       "3                   Aa aurantiaca  \n",
       "4                     Aa calceata  \n",
       "...                           ...  \n",
       "194989     Zygotritonia bongensis  \n",
       "194990          Zyzyxia lundellii  \n",
       "194991          Zyzyxia lundellii  \n",
       "194992          Zyzyxia lundellii  \n",
       "194993  × Phyllosasa tranquillans  \n",
       "\n",
       "[194994 rows x 6 columns]"
      ]
     },
     "execution_count": 17,
     "metadata": {},
     "output_type": "execute_result"
    }
   ],
   "source": [
    "df_WIKI"
   ]
  },
  {
   "cell_type": "code",
   "execution_count": 18,
   "id": "b388aae2",
   "metadata": {},
   "outputs": [
    {
     "name": "stdout",
     "output_type": "stream",
     "text": [
      "Initial Number of Categories: 7903\n"
     ]
    }
   ],
   "source": [
    "print(\"Initial Number of Categories:\", df_WIKI[\"WIKI_id\"].nunique())"
   ]
  },
  {
   "attachments": {},
   "cell_type": "markdown",
   "id": "afce28fd",
   "metadata": {},
   "source": [
    "# Preprocessing"
   ]
  },
  {
   "attachments": {},
   "cell_type": "markdown",
   "id": "7d12b548",
   "metadata": {},
   "source": [
    "## 1. Remove artifacts and accents from text\n",
    "Such as $<p>, \\&nbsp, <i>, <b>, <br>, <em>, _x000D_, \", ', $"
   ]
  },
  {
   "cell_type": "code",
   "execution_count": 19,
   "id": "a94aa336",
   "metadata": {
    "ExecuteTime": {
     "end_time": "2022-07-03T22:46:59.634700Z",
     "start_time": "2022-07-03T22:46:48.751396Z"
    }
   },
   "outputs": [
    {
     "name": "stderr",
     "output_type": "stream",
     "text": [
      "C:\\Users\\Admin\\AppData\\Local\\Temp\\ipykernel_126820\\140051718.py:1: SettingWithCopyWarning: \n",
      "A value is trying to be set on a copy of a slice from a DataFrame.\n",
      "Try using .loc[row_indexer,col_indexer] = value instead\n",
      "\n",
      "See the caveats in the documentation: https://pandas.pydata.org/pandas-docs/stable/user_guide/indexing.html#returning-a-view-versus-a-copy\n",
      "  df_POWO.loc[:, \"prep_description_1\"] = df_POWO[\"description\"].apply(remove_artifacts)\n"
     ]
    }
   ],
   "source": [
    "df_POWO.loc[:, \"prep_description_1\"] = df_POWO[\"description\"].apply(remove_artifacts)\n",
    "df_POWO.loc[:, \"prep_description_1\"] = df_POWO[\"prep_description_1\"].apply(unidecode.unidecode)"
   ]
  },
  {
   "cell_type": "code",
   "execution_count": 20,
   "id": "c9da43ba",
   "metadata": {},
   "outputs": [],
   "source": [
    "df_WIKI.loc[:, \"prep_description_1\"] = df_WIKI[\"description\"].apply(remove_artifacts)\n",
    "df_WIKI.loc[:, \"prep_description_1\"] = df_WIKI[\"prep_description_1\"].apply(unidecode.unidecode)"
   ]
  },
  {
   "attachments": {},
   "cell_type": "markdown",
   "id": "210bc78e",
   "metadata": {},
   "source": [
    "## 2. Translate Descriptions to English\n",
    "Only done for Plants of the World Online as in the Wikipedia dataset the English language websites are the only ones that were scraped."
   ]
  },
  {
   "attachments": {},
   "cell_type": "markdown",
   "id": "5bca84ae",
   "metadata": {},
   "source": [
    "### Detect Description Language"
   ]
  },
  {
   "cell_type": "code",
   "execution_count": 21,
   "id": "3ae71f3c",
   "metadata": {},
   "outputs": [
    {
     "name": "stderr",
     "output_type": "stream",
     "text": [
      "C:\\Users\\Admin\\AppData\\Local\\Temp\\ipykernel_126820\\3843858688.py:1: SettingWithCopyWarning: \n",
      "A value is trying to be set on a copy of a slice from a DataFrame.\n",
      "Try using .loc[row_indexer,col_indexer] = value instead\n",
      "\n",
      "See the caveats in the documentation: https://pandas.pydata.org/pandas-docs/stable/user_guide/indexing.html#returning-a-view-versus-a-copy\n",
      "  df_POWO[\"Language\"] = df_POWO[\"prep_description_1\"].apply(detect_language)\n"
     ]
    }
   ],
   "source": [
    "df_POWO[\"Language\"] = df_POWO[\"prep_description_1\"].apply(detect_language) "
   ]
  },
  {
   "cell_type": "code",
   "execution_count": 22,
   "id": "73565427",
   "metadata": {},
   "outputs": [
    {
     "data": {
      "text/plain": [
       "Language\n",
       "en    268220\n",
       "es     19945\n",
       "la        80\n",
       "de         7\n",
       "fr         2\n",
       "Name: count, dtype: int64"
      ]
     },
     "execution_count": 22,
     "metadata": {},
     "output_type": "execute_result"
    }
   ],
   "source": [
    "df_POWO[\"Language\"].value_counts()"
   ]
  },
  {
   "cell_type": "code",
   "execution_count": 23,
   "id": "66fb4506",
   "metadata": {},
   "outputs": [],
   "source": [
    "df_WIKI[\"Language\"] = \"en\" # As we know that all Wikipedia descriptions are in English, we just set the language flag to \"en\""
   ]
  },
  {
   "attachments": {},
   "cell_type": "markdown",
   "id": "79428438",
   "metadata": {},
   "source": [
    "## Translate Non-English Descriptions\n",
    "Keep note that this uses the GoogleTranslator API to translate the detected descriptions to English and thus has a limit on the amount of descriptions that can be translated in a defined time period."
   ]
  },
  {
   "cell_type": "code",
   "execution_count": 27,
   "id": "d7cc69be",
   "metadata": {
    "ExecuteTime": {
     "end_time": "2022-07-04T01:13:26.963897Z",
     "start_time": "2022-07-04T00:04:51.231728Z"
    },
    "scrolled": true
   },
   "outputs": [],
   "source": [
    "translated_list = []\n",
    "\n",
    "language_mask = df_POWO[\"Language\"]!=\"en\" # We apply a mask so that we only translate the non-English descriptions\n",
    "N_non_en = np.sum(language_mask)\n",
    "\n",
    "# The translations are split into batches of size 100 for more efficient use of the translation\n",
    "for i in tqdm(range(N_non_en//100 + 1)):\n",
    "    i_min = 100*i\n",
    "    i_max = min(100*(i+1), N_non_en)\n",
    "    values_to_translate = list(df_POWO[language_mask][\"prep_description_1\"].values[i_min: i_max])\n",
    "    translations = GoogleTranslator(\"auto\", 'en').translate_batch(values_to_translate)\n",
    "    translated_list.append(translations)\n",
    "\n",
    "translations = [element for sublist in translated_list if len(sublist)>0 for element in sublist] # Transform the results from form (N_batches, Batch_size) to (N_descriptions)\n",
    "\n",
    "df_POWO.loc[:, \"translated_prep_description_1\"] = df_POWO[\"prep_description_1\"]\n",
    "df_POWO.loc[language_mask, \"translated_prep_description_1\"] = translations"
   ]
  },
  {
   "cell_type": "code",
   "execution_count": 28,
   "id": "883c8c6d",
   "metadata": {},
   "outputs": [],
   "source": [
    "df_WIKI[\"translated_prep_description_1\"] = df_WIKI[\"prep_description_1\"] # As we don't do any translations for the English Wikipedia descriptions, we just copy the preprocessed descriptions to have the same data as the POWO dataset"
   ]
  },
  {
   "attachments": {},
   "cell_type": "markdown",
   "id": "f2c1100f",
   "metadata": {},
   "source": [
    "## 3. Remove digits, punctuation, lowercase & tokenize\n",
    "The final preprocessing pipeline results in three descriptions for the various models. \n",
    "- Categorical ML Models (BOW_description): Used for the bag of words logistic regression model, thus we apply the base preprocessing and remove stop words and digits.\n",
    "- Categorical DL Models (BERT_description): Used for the sequence classification transformer models, thus we apply the base preprocessing and remove digits from the text.\n",
    "- Numerical DL Models (QA_description): Used for question answering transformer models, thus we only apply the base preprocessing."
   ]
  },
  {
   "cell_type": "code",
   "execution_count": 29,
   "id": "4c30310c",
   "metadata": {
    "ExecuteTime": {
     "end_time": "2022-07-04T10:52:56.622899Z",
     "start_time": "2022-07-04T10:51:37.208703Z"
    }
   },
   "outputs": [
    {
     "name": "stderr",
     "output_type": "stream",
     "text": [
      "C:\\Users\\Admin\\AppData\\Local\\Temp\\ipykernel_126820\\306227292.py:1: SettingWithCopyWarning: \n",
      "A value is trying to be set on a copy of a slice from a DataFrame.\n",
      "Try using .loc[row_indexer,col_indexer] = value instead\n",
      "\n",
      "See the caveats in the documentation: https://pandas.pydata.org/pandas-docs/stable/user_guide/indexing.html#returning-a-view-versus-a-copy\n",
      "  df_POWO.loc[:, \"QA_description\"] = df_POWO[\"translated_prep_description_1\"].apply(lambda x: preprocess_description(x, False, False))\n",
      "C:\\Users\\Admin\\AppData\\Local\\Temp\\ipykernel_126820\\306227292.py:2: SettingWithCopyWarning: \n",
      "A value is trying to be set on a copy of a slice from a DataFrame.\n",
      "Try using .loc[row_indexer,col_indexer] = value instead\n",
      "\n",
      "See the caveats in the documentation: https://pandas.pydata.org/pandas-docs/stable/user_guide/indexing.html#returning-a-view-versus-a-copy\n",
      "  df_POWO.loc[:, \"BERT_description\"] = df_POWO[\"translated_prep_description_1\"].apply(lambda x: preprocess_description(x, True, False))\n",
      "C:\\Users\\Admin\\AppData\\Local\\Temp\\ipykernel_126820\\306227292.py:3: SettingWithCopyWarning: \n",
      "A value is trying to be set on a copy of a slice from a DataFrame.\n",
      "Try using .loc[row_indexer,col_indexer] = value instead\n",
      "\n",
      "See the caveats in the documentation: https://pandas.pydata.org/pandas-docs/stable/user_guide/indexing.html#returning-a-view-versus-a-copy\n",
      "  df_POWO.loc[:, \"BOW_description\"] = df_POWO[\"translated_prep_description_1\"].apply(lambda x: preprocess_description(x, True, True))\n"
     ]
    }
   ],
   "source": [
    "df_POWO.loc[:, \"QA_description\"] = df_POWO[\"translated_prep_description_1\"].apply(lambda x: preprocess_description(x, False, False))\n",
    "df_POWO.loc[:, \"BERT_description\"] = df_POWO[\"translated_prep_description_1\"].apply(lambda x: preprocess_description(x, True, False))\n",
    "df_POWO.loc[:, \"BOW_description\"] = df_POWO[\"translated_prep_description_1\"].apply(lambda x: preprocess_description(x, True, True))"
   ]
  },
  {
   "cell_type": "code",
   "execution_count": 30,
   "id": "3652db21",
   "metadata": {},
   "outputs": [],
   "source": [
    "df_WIKI.loc[:, \"QA_description\"] = df_WIKI[\"translated_prep_description_1\"].apply(lambda x: preprocess_description(x, False, False))\n",
    "df_WIKI.loc[:, \"BERT_description\"] = df_WIKI[\"translated_prep_description_1\"].apply(lambda x: preprocess_description(x, True, False))\n",
    "df_WIKI.loc[:, \"BOW_description\"] = df_WIKI[\"translated_prep_description_1\"].apply(lambda x: preprocess_description(x, True, True))"
   ]
  },
  {
   "attachments": {},
   "cell_type": "markdown",
   "id": "93dc3927",
   "metadata": {},
   "source": [
    "# Save Data"
   ]
  },
  {
   "cell_type": "code",
   "execution_count": 642,
   "id": "f9966313",
   "metadata": {
    "ExecuteTime": {
     "end_time": "2022-07-04T12:21:58.017050Z",
     "start_time": "2022-07-04T12:20:21.521280Z"
    }
   },
   "outputs": [],
   "source": [
    "df_POWO.to_excel(\"..//Data//Preprocessed Databases//POWO_preprocessed_descriptions.xlsx\", index = False)\n",
    "df_WIKI.to_excel(\"..//Data//Preprocessed Databases//WIKI_preprocessed_descriptions.xlsx\", index = False)"
   ]
  }
 ],
 "metadata": {
  "kernelspec": {
   "display_name": "Python 3 (ipykernel)",
   "language": "python",
   "name": "python3"
  },
  "language_info": {
   "codemirror_mode": {
    "name": "ipython",
    "version": 3
   },
   "file_extension": ".py",
   "mimetype": "text/x-python",
   "name": "python",
   "nbconvert_exporter": "python",
   "pygments_lexer": "ipython3",
   "version": "3.9.13"
  },
  "toc": {
   "base_numbering": 1,
   "nav_menu": {},
   "number_sections": true,
   "sideBar": true,
   "skip_h1_title": false,
   "title_cell": "Table of Contents",
   "title_sidebar": "Contents",
   "toc_cell": false,
   "toc_position": {
    "height": "calc(100% - 180px)",
    "left": "10px",
    "top": "150px",
    "width": "341.333px"
   },
   "toc_section_display": true,
   "toc_window_display": true
  },
  "varInspector": {
   "cols": {
    "lenName": 16,
    "lenType": 16,
    "lenVar": 40
   },
   "kernels_config": {
    "python": {
     "delete_cmd_postfix": "",
     "delete_cmd_prefix": "del ",
     "library": "var_list.py",
     "varRefreshCmd": "print(var_dic_list())"
    },
    "r": {
     "delete_cmd_postfix": ") ",
     "delete_cmd_prefix": "rm(",
     "library": "var_list.r",
     "varRefreshCmd": "cat(var_dic_list()) "
    }
   },
   "types_to_exclude": [
    "module",
    "function",
    "builtin_function_or_method",
    "instance",
    "_Feature"
   ],
   "window_display": false
  }
 },
 "nbformat": 4,
 "nbformat_minor": 5
}
